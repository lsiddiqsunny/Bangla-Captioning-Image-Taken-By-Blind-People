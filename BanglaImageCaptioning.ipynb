{
  "nbformat": 4,
  "nbformat_minor": 0,
  "metadata": {
    "kernelspec": {
      "name": "python3",
      "display_name": "Python 3"
    },
    "colab": {
      "name": "BanglaImageCaptioning.ipynb",
      "provenance": [],
      "collapsed_sections": [],
      "include_colab_link": true
    }
  },
  "cells": [
    {
      "cell_type": "markdown",
      "metadata": {
        "id": "view-in-github",
        "colab_type": "text"
      },
      "source": [
        "<a href=\"https://colab.research.google.com/github/lsiddiqsunny/Bangla-Captioning-Image-Taken-By-Blind-People/blob/main/BanglaImageCaptioning.ipynb\" target=\"_parent\"><img src=\"https://colab.research.google.com/assets/colab-badge.svg\" alt=\"Open In Colab\"/></a>"
      ]
    },
    {
      "cell_type": "code",
      "metadata": {
        "id": "yZNuOG3XhQc4"
      },
      "source": [
        "\n",
        "import json "
      ],
      "execution_count": null,
      "outputs": []
    },
    {
      "cell_type": "code",
      "metadata": {
        "id": "LLxoJa1AhQdC"
      },
      "source": [
        "num_to_train = 50\n",
        "num_to_val = 5"
      ],
      "execution_count": null,
      "outputs": []
    },
    {
      "cell_type": "code",
      "metadata": {
        "colab": {
          "base_uri": "https://localhost:8080/"
        },
        "id": "-4jOWLHrhUcV",
        "outputId": "820404c5-b95a-46e2-f79c-5a23e2efb159"
      },
      "source": [
        "from google.colab import drive\r\n",
        "drive.mount('/content/drive')"
      ],
      "execution_count": null,
      "outputs": [
        {
          "output_type": "stream",
          "text": [
            "Drive already mounted at /content/drive; to attempt to forcibly remount, call drive.mount(\"/content/drive\", force_remount=True).\n"
          ],
          "name": "stdout"
        }
      ]
    },
    {
      "cell_type": "code",
      "metadata": {
        "id": "aX8QDbIphQdC"
      },
      "source": [
        "train_annotation = json.load(open(\"/content/drive/MyDrive/Colab Notebooks/VizWiz/annotations/train.json\"))"
      ],
      "execution_count": null,
      "outputs": []
    },
    {
      "cell_type": "code",
      "metadata": {
        "colab": {
          "base_uri": "https://localhost:8080/"
        },
        "id": "cU1H99kjhQdD",
        "outputId": "d2730a96-c54a-4e0e-88cf-29d373e959ad"
      },
      "source": [
        "print(train_annotation['info'])\n",
        "total_image = len(train_annotation['images'])\n",
        "print('Total Images: ',total_image)"
      ],
      "execution_count": null,
      "outputs": [
        {
          "output_type": "stream",
          "text": [
            "{'description': 'This dataset contains crowdsourced captions of images from VizWiz datasets. This file contains the train partition.', 'license': {'url': 'https://creativecommons.org/licenses/by/4.0/', 'name': 'Attribution 4.0 International (CC BY 4.0)'}, 'url': 'https://vizwiz.org', 'version': 'VizWiz-Captions 1.0', 'year': 2019, 'contributor': 'VizWiz-Captions Consortium', 'date_created': '2019-12-23'}\n",
            "Total Images:  23431\n"
          ],
          "name": "stdout"
        }
      ]
    },
    {
      "cell_type": "code",
      "metadata": {
        "id": "mi6Pwc8ghQdE"
      },
      "source": [
        "\n",
        "# load and show an image with Pillow\n",
        "from matplotlib import image\n",
        "from matplotlib import pyplot\n",
        "from PIL import Image"
      ],
      "execution_count": null,
      "outputs": []
    },
    {
      "cell_type": "code",
      "metadata": {
        "id": "Rtf9KwnnhQdF"
      },
      "source": [
        "descriptions = dict()\n",
        "for i in range(num_to_train):\n",
        "    # image = Image.open('Dataset/train/'+train_annotation['images'][i]['file_name'])\n",
        "    # image = image.convert(mode='L')\n",
        "    # image = image.resize((640, 480))\n",
        "    # print(image.size)\n",
        "    descriptions[i] = []\n",
        "    for j in range(5):\n",
        "        # print('Caption #',j,': ',train_annotation['annotations'][i*5+j]['caption'])\n",
        "        current_caption = train_annotation['annotations'][i*5+j]['caption']\n",
        "        if \"quality issues are too severe to recognize visual content\" in current_caption:\n",
        "            continue\n",
        "        \n",
        "        descriptions[i].append(current_caption)\n",
        "#     pyplot.subplot(5,2,i+1)\n",
        "#     pyplot.imshow(image)\n",
        "# pyplot.show()\n"
      ],
      "execution_count": null,
      "outputs": []
    },
    {
      "cell_type": "code",
      "metadata": {
        "id": "czniFyhnhQdF"
      },
      "source": [
        "from keras.applications.vgg16 import VGG16\n",
        "from keras.preprocessing.image import load_img\n",
        "from keras.preprocessing.image import img_to_array\n",
        "from keras.applications.vgg16 import preprocess_input\n",
        "from keras.models import Model\n",
        "from keras.preprocessing.text import Tokenizer\n",
        "\n",
        "\n",
        "from numpy import array\n",
        "from pickle import load\n",
        "from keras.preprocessing.sequence import pad_sequences\n",
        "from keras.utils import to_categorical\n",
        "from keras.utils import plot_model\n",
        "from keras.models import Model\n",
        "from keras.layers import Input\n",
        "from keras.layers import Dense\n",
        "from keras.layers import LSTM\n",
        "from keras.layers import Embedding\n",
        "from keras.layers import Dropout\n",
        "from keras.layers.merge import add\n",
        "from keras.callbacks import ModelCheckpoint"
      ],
      "execution_count": null,
      "outputs": []
    },
    {
      "cell_type": "code",
      "metadata": {
        "id": "Nwixth4_hQdG"
      },
      "source": [
        "from pickle import dump\n",
        "from pickle import load"
      ],
      "execution_count": null,
      "outputs": []
    },
    {
      "cell_type": "code",
      "metadata": {
        "id": "1_FSPIpshQdH"
      },
      "source": [
        "\n",
        "# extract features from each photo in the directory\n",
        "def extract_features(annotation,isTrain = True):\n",
        "\t# load the model\n",
        "\tmodel = VGG16()\n",
        "\t# re-structure the model\n",
        "\tmodel = Model(inputs=model.inputs, outputs=model.layers[-2].output)\n",
        "\t# summarize\n",
        "\tprint(model.summary())\n",
        "\t# extract features from each photo\n",
        "\tfeatures = dict()\n",
        "\n",
        "\tfor i in range(num_to_train):\n",
        "\t\tif isTrain==False:\n",
        "\t\t\tif i==num_to_val:\n",
        "\t\t\t\tbreak\n",
        "\t\t# load an image from file\n",
        "\t\tfilename = ''\n",
        "\t\tif isTrain:\n",
        "\t\t\tfilename = '/content/drive/MyDrive/Colab Notebooks/VizWiz/train/'+annotation['images'][i]['file_name']\n",
        "\t\telse:\n",
        "\t\t\tfilename = '/content/drive/MyDrive/Colab Notebooks/VizWiz/val/'+annotation['images'][i]['file_name']\n",
        "\t\timage = load_img(filename, target_size=(224, 224))\n",
        "\t\t# convert the image pixels to a numpy array\n",
        "\t\timage = img_to_array(image)\n",
        "\t\t# reshape data for the model\n",
        "\t\timage = image.reshape((1, image.shape[0], image.shape[1], image.shape[2]))\n",
        "\t\t# prepare the image for the VGG model\n",
        "\t\timage = preprocess_input(image)\n",
        "\t\t# get features\n",
        "\t\tfeature = model.predict(image, verbose=0)\n",
        "\t\t# store feature\n",
        "\t\tfeatures[i] = feature\n",
        "\t\t# print('>%s' % name)\n",
        "\treturn features"
      ],
      "execution_count": null,
      "outputs": []
    },
    {
      "cell_type": "code",
      "metadata": {
        "colab": {
          "base_uri": "https://localhost:8080/"
        },
        "id": "BOd4g_VJhQdI",
        "outputId": "3983dacc-20c6-4fc7-f52f-070ed3ea7b2c"
      },
      "source": [
        "features = extract_features(train_annotation)\n",
        "print('Extracted Features: %d' % len(features))\n",
        "# save to file\n",
        "dump(features, open('/content/drive/MyDrive/Colab Notebooks/VizWiz/features.pkl', 'wb'))"
      ],
      "execution_count": null,
      "outputs": [
        {
          "output_type": "stream",
          "text": [
            "Downloading data from https://storage.googleapis.com/tensorflow/keras-applications/vgg16/vgg16_weights_tf_dim_ordering_tf_kernels.h5\n",
            "553467904/553467096 [==============================] - 4s 0us/step\n",
            "Model: \"model\"\n",
            "_________________________________________________________________\n",
            "Layer (type)                 Output Shape              Param #   \n",
            "=================================================================\n",
            "input_1 (InputLayer)         [(None, 224, 224, 3)]     0         \n",
            "_________________________________________________________________\n",
            "block1_conv1 (Conv2D)        (None, 224, 224, 64)      1792      \n",
            "_________________________________________________________________\n",
            "block1_conv2 (Conv2D)        (None, 224, 224, 64)      36928     \n",
            "_________________________________________________________________\n",
            "block1_pool (MaxPooling2D)   (None, 112, 112, 64)      0         \n",
            "_________________________________________________________________\n",
            "block2_conv1 (Conv2D)        (None, 112, 112, 128)     73856     \n",
            "_________________________________________________________________\n",
            "block2_conv2 (Conv2D)        (None, 112, 112, 128)     147584    \n",
            "_________________________________________________________________\n",
            "block2_pool (MaxPooling2D)   (None, 56, 56, 128)       0         \n",
            "_________________________________________________________________\n",
            "block3_conv1 (Conv2D)        (None, 56, 56, 256)       295168    \n",
            "_________________________________________________________________\n",
            "block3_conv2 (Conv2D)        (None, 56, 56, 256)       590080    \n",
            "_________________________________________________________________\n",
            "block3_conv3 (Conv2D)        (None, 56, 56, 256)       590080    \n",
            "_________________________________________________________________\n",
            "block3_pool (MaxPooling2D)   (None, 28, 28, 256)       0         \n",
            "_________________________________________________________________\n",
            "block4_conv1 (Conv2D)        (None, 28, 28, 512)       1180160   \n",
            "_________________________________________________________________\n",
            "block4_conv2 (Conv2D)        (None, 28, 28, 512)       2359808   \n",
            "_________________________________________________________________\n",
            "block4_conv3 (Conv2D)        (None, 28, 28, 512)       2359808   \n",
            "_________________________________________________________________\n",
            "block4_pool (MaxPooling2D)   (None, 14, 14, 512)       0         \n",
            "_________________________________________________________________\n",
            "block5_conv1 (Conv2D)        (None, 14, 14, 512)       2359808   \n",
            "_________________________________________________________________\n",
            "block5_conv2 (Conv2D)        (None, 14, 14, 512)       2359808   \n",
            "_________________________________________________________________\n",
            "block5_conv3 (Conv2D)        (None, 14, 14, 512)       2359808   \n",
            "_________________________________________________________________\n",
            "block5_pool (MaxPooling2D)   (None, 7, 7, 512)         0         \n",
            "_________________________________________________________________\n",
            "flatten (Flatten)            (None, 25088)             0         \n",
            "_________________________________________________________________\n",
            "fc1 (Dense)                  (None, 4096)              102764544 \n",
            "_________________________________________________________________\n",
            "fc2 (Dense)                  (None, 4096)              16781312  \n",
            "=================================================================\n",
            "Total params: 134,260,544\n",
            "Trainable params: 134,260,544\n",
            "Non-trainable params: 0\n",
            "_________________________________________________________________\n",
            "None\n",
            "Extracted Features: 50\n"
          ],
          "name": "stdout"
        }
      ]
    },
    {
      "cell_type": "code",
      "metadata": {
        "colab": {
          "base_uri": "https://localhost:8080/"
        },
        "id": "esD6OU8KhQdJ",
        "outputId": "56e0f60b-4cbd-403c-f75b-f86659f12bec"
      },
      "source": [
        "print('Loaded: %d ' % len(descriptions))"
      ],
      "execution_count": null,
      "outputs": [
        {
          "output_type": "stream",
          "text": [
            "Loaded: 50 \n"
          ],
          "name": "stdout"
        }
      ]
    },
    {
      "cell_type": "code",
      "metadata": {
        "id": "Z9nkZOo8hQdJ"
      },
      "source": [
        "import string\n",
        "\n",
        "def clean_descriptions(descriptions):\n",
        "\t# prepare translation table for removing punctuation\n",
        "\ttable = str.maketrans('', '', string.punctuation)\n",
        "\tfor key, desc_list in descriptions.items():\n",
        "\t\tfor i in range(len(desc_list)):\n",
        "\t\t\tdesc = desc_list[i]\n",
        "\t\t\t# tokenize\n",
        "\t\t\tdesc = desc.split()\n",
        "\t\t\t# convert to lower case\n",
        "\t\t\tdesc = [word.lower() for word in desc]\n",
        "\t\t\t# remove punctuation from each token\n",
        "\t\t\tdesc = [w.translate(table) for w in desc]\n",
        "\t\t\t# remove hanging 's' and 'a'\n",
        "\t\t\tdesc = [word for word in desc if len(word)>1]\n",
        "\t\t\t# remove tokens with numbers in them\n",
        "\t\t\tdesc = [word for word in desc if word.isalpha()]\n",
        "\t\t\t# store as string\n",
        "\t\t\tdesc_list[i] =  ' '.join(desc)\n",
        "\n",
        "# clean descriptions\n",
        "clean_descriptions(descriptions)"
      ],
      "execution_count": null,
      "outputs": []
    },
    {
      "cell_type": "code",
      "metadata": {
        "colab": {
          "base_uri": "https://localhost:8080/"
        },
        "id": "eItNgQsFhQdK",
        "outputId": "ce3e4f0c-b31b-444f-b23a-4e6cc41cd0da"
      },
      "source": [
        "# convert the loaded descriptions into a vocabulary of words\n",
        "def to_vocabulary(descriptions):\n",
        "\t# build a list of all description strings\n",
        "\tall_desc = set()\n",
        "\tfor key in descriptions.keys():\n",
        "\t\t[all_desc.update(d.split()) for d in descriptions[key]]\n",
        "\treturn all_desc\n",
        "\n",
        "# summarize vocabulary\n",
        "vocabulary = to_vocabulary(descriptions)\n",
        "print('Vocabulary Size: %d' % len(vocabulary))"
      ],
      "execution_count": null,
      "outputs": [
        {
          "output_type": "stream",
          "text": [
            "Vocabulary Size: 631\n"
          ],
          "name": "stdout"
        }
      ]
    },
    {
      "cell_type": "code",
      "metadata": {
        "id": "WeAa9bM6hQdK"
      },
      "source": [
        "# save descriptions to file, one per line\n",
        "def save_descriptions(descriptions, filename):\n",
        "\tlines = list()\n",
        "\tfor key, desc_list in descriptions.items():\n",
        "\t\tfor desc in desc_list:\n",
        "\t\t\tlines.append(str(key) + ' ' + desc)\n",
        "\tdata = '\\n'.join(lines)\n",
        "\tfile = open(filename, 'w')\n",
        "\tfile.write(data)\n",
        "\tfile.close()\n",
        "\n",
        "# save descriptions\n",
        "save_descriptions(descriptions, '/content/drive/MyDrive/Colab Notebooks/VizWiz/descriptions.txt')"
      ],
      "execution_count": null,
      "outputs": []
    },
    {
      "cell_type": "code",
      "metadata": {
        "colab": {
          "base_uri": "https://localhost:8080/"
        },
        "id": "0isXyy7jhQdL",
        "outputId": "0d41605f-b2a5-4c4c-df82-b5fa3ea1ff1c"
      },
      "source": [
        "# load photo features\n",
        "def load_photo_features(filename, num_to_train):\n",
        "\t# load all features\n",
        "\tall_features = load(open(filename, 'rb'))\n",
        "\t# filter features\n",
        "\tfeatures = {k: all_features[k] for k in range(num_to_train)}\n",
        "\treturn features\n",
        "# photo features\n",
        "train_features = load_photo_features('/content/drive/MyDrive/Colab Notebooks/VizWiz/features.pkl', num_to_train)\n",
        "print('Photos: train=%d' % len(train_features))"
      ],
      "execution_count": null,
      "outputs": [
        {
          "output_type": "stream",
          "text": [
            "Photos: train=50\n"
          ],
          "name": "stdout"
        }
      ]
    },
    {
      "cell_type": "code",
      "metadata": {
        "colab": {
          "base_uri": "https://localhost:8080/"
        },
        "id": "qN8559YthQdL",
        "outputId": "51fff12a-6942-400c-c125-da5e240d36aa"
      },
      "source": [
        "# load doc into memory\n",
        "def load_doc(filename):\n",
        "\t# open the file as read only\n",
        "\tfile = open(filename, 'r')\n",
        "\t# read all text\n",
        "\ttext = file.read()\n",
        "\t# close the file\n",
        "\tfile.close()\n",
        "\treturn text\n",
        "# load clean descriptions into memory\n",
        "def load_clean_descriptions(filename, num_to_train):\n",
        "\t# load document\n",
        "\tdoc = load_doc(filename)\n",
        "\tdescriptions = dict()\n",
        "\tfor line in doc.split('\\n'):\n",
        "\t\t# split line by white space\n",
        "\t\ttokens = line.split()\n",
        "\t\t# split id from description\n",
        "\t\timage_id, image_desc = int(tokens[0]), tokens[1:]\n",
        "\t\t# skip images not in the set\n",
        "\t\tif image_id in range(num_to_train):\n",
        "\t\t\t# create list\n",
        "\t\t\tif image_id not in descriptions:\n",
        "\t\t\t\tdescriptions[image_id] = list()\n",
        "\t\t\t# wrap description in tokens\n",
        "\t\t\tdesc = 'startseq ' + ' '.join(image_desc) + ' endseq'\n",
        "\t\t\t# store\n",
        "\t\t\tdescriptions[image_id].append(desc)\n",
        "\treturn descriptions\n",
        "# descriptions\n",
        "train_descriptions = load_clean_descriptions('/content/drive/MyDrive/Colab Notebooks/VizWiz/descriptions.txt', num_to_train)\n",
        "print('Descriptions: train=%d' % len(train_descriptions))"
      ],
      "execution_count": null,
      "outputs": [
        {
          "output_type": "stream",
          "text": [
            "Descriptions: train=50\n"
          ],
          "name": "stdout"
        }
      ]
    },
    {
      "cell_type": "code",
      "metadata": {
        "colab": {
          "base_uri": "https://localhost:8080/"
        },
        "id": "fVUNaG6MhQdO",
        "outputId": "9724664f-c3b3-4151-f725-9bc41b9f625b"
      },
      "source": [
        "# convert a dictionary of clean descriptions to a list of descriptions\n",
        "def to_lines(descriptions):\n",
        "\tall_desc = list()\n",
        "\tfor key in descriptions.keys():\n",
        "\t\t[all_desc.append(d) for d in descriptions[key]]\n",
        "\treturn all_desc\n",
        "\n",
        "# fit a tokenizer given caption descriptions\n",
        "def create_tokenizer(descriptions):\n",
        "\tlines = to_lines(descriptions)\n",
        "\ttokenizer = Tokenizer()\n",
        "\ttokenizer.fit_on_texts(lines)\n",
        "\treturn tokenizer\n",
        "\n",
        "# prepare tokenizer\n",
        "tokenizer = create_tokenizer(train_descriptions)\n",
        "vocab_size = len(tokenizer.word_index) + 1\n",
        "print('Vocabulary Size: %d' % vocab_size)"
      ],
      "execution_count": null,
      "outputs": [
        {
          "output_type": "stream",
          "text": [
            "Vocabulary Size: 634\n"
          ],
          "name": "stdout"
        }
      ]
    },
    {
      "cell_type": "code",
      "metadata": {
        "id": "ZBB2gMHohQdQ"
      },
      "source": [
        "# calculate the length of the description with the most words\n",
        "def max_lengths(descriptions):\n",
        "\tlines = to_lines(descriptions)\n",
        "\treturn max(len(d.split()) for d in lines)\n",
        " \n",
        "# create sequences of images, input sequences and output words for an image\n",
        "def create_sequences(tokenizer, max_length, desc_list, photo, vocab_size):\n",
        "\tX1, X2, y = list(), list(), list()\n",
        "\t#print(desc_list)\n",
        "\t# walk through each description for the image\n",
        "\tfor desc in desc_list:\n",
        "\t\t# print(desc)\n",
        "\t\t# encode the sequence\n",
        "\t\tseq = tokenizer.texts_to_sequences([desc])[0]\n",
        "\t\t# split one sequence into multiple X,y pairs\n",
        "\t\tfor i in range(1, len(seq)):\n",
        "\t\t\t# split into input and output pair\n",
        "\t\t\tin_seq, out_seq = seq[:i], seq[i]\n",
        "\t\t\t# pad input sequence\n",
        "\t\t\tin_seq = pad_sequences([in_seq], maxlen=max_length)[0]\n",
        "\t\t\t# encode output sequence\n",
        "\t\t\tout_seq = to_categorical([out_seq], num_classes=vocab_size)[0]\n",
        "\t\t\t# store\n",
        "\t\t\tX1.append(photo)\n",
        "\t\t\tX2.append(in_seq)\n",
        "\t\t\ty.append(out_seq)\n",
        "\treturn array(X1), array(X2), array(y)"
      ],
      "execution_count": null,
      "outputs": []
    },
    {
      "cell_type": "code",
      "metadata": {
        "colab": {
          "base_uri": "https://localhost:8080/"
        },
        "id": "NaMtHC6jhQdQ",
        "outputId": "147f550b-2cb9-427a-8de1-321967de75ae"
      },
      "source": [
        "# determine the maximum sequence length\n",
        "max_length = max_lengths(train_descriptions)\n",
        "print('Description Length: %d' % max_length)"
      ],
      "execution_count": null,
      "outputs": [
        {
          "output_type": "stream",
          "text": [
            "Description Length: 44\n"
          ],
          "name": "stdout"
        }
      ]
    },
    {
      "cell_type": "code",
      "metadata": {
        "colab": {
          "base_uri": "https://localhost:8080/"
        },
        "id": "8ysDEr-lhQdR",
        "outputId": "0ae32534-0c00-41e8-fab1-a2bc7f1378dd"
      },
      "source": [
        "val_annotation = json.load(open(\"/content/drive/MyDrive/Colab Notebooks/VizWiz/annotations/val.json\"))\n",
        "print(val_annotation['info'])\n",
        "val_descriptions = dict()\n",
        "for i in range(num_to_val):\n",
        "    # image = Image.open('/content/drive/MyDrive/Colab Notebooks/VizWiz/val/'+val_annotation ['images'][i]['file_name'])\n",
        "    # image = image.convert(mode='L')\n",
        "    # image = image.resize((640, 480))\n",
        "    # print(image.size)\n",
        "    val_descriptions[i] = []\n",
        "    for j in range(5):\n",
        "        val_caption = val_annotation['annotations'][i*5+j]['caption']\n",
        "        # print('Caption #',j,': ',val_caption)\n",
        "        \n",
        "        if \"quality issues are too severe to recognize visual content\" in  val_caption:\n",
        "            continue\n",
        "        val_descriptions[i].append(val_caption)\n",
        "val_features = extract_features(val_annotation,False)\n",
        "print('Extracted Features: %d' % len(val_features))\n",
        "# save to file\n",
        "dump(val_features, open('/content/drive/MyDrive/Colab Notebooks/VizWiz/val_features.pkl', 'wb'))"
      ],
      "execution_count": null,
      "outputs": [
        {
          "output_type": "stream",
          "text": [
            "{'description': 'This dataset contains crowdsourced captions of images from VizWiz datasets. This file contains the val partition.', 'license': {'url': 'https://creativecommons.org/licenses/by/4.0/', 'name': 'Attribution 4.0 International (CC BY 4.0)'}, 'url': 'https://vizwiz.org', 'version': 'VizWiz-Captions 1.0', 'year': 2019, 'contributor': 'VizWiz-Captions Consortium', 'date_created': '2019-12-23'}\n",
            "Model: \"model_1\"\n",
            "_________________________________________________________________\n",
            "Layer (type)                 Output Shape              Param #   \n",
            "=================================================================\n",
            "input_2 (InputLayer)         [(None, 224, 224, 3)]     0         \n",
            "_________________________________________________________________\n",
            "block1_conv1 (Conv2D)        (None, 224, 224, 64)      1792      \n",
            "_________________________________________________________________\n",
            "block1_conv2 (Conv2D)        (None, 224, 224, 64)      36928     \n",
            "_________________________________________________________________\n",
            "block1_pool (MaxPooling2D)   (None, 112, 112, 64)      0         \n",
            "_________________________________________________________________\n",
            "block2_conv1 (Conv2D)        (None, 112, 112, 128)     73856     \n",
            "_________________________________________________________________\n",
            "block2_conv2 (Conv2D)        (None, 112, 112, 128)     147584    \n",
            "_________________________________________________________________\n",
            "block2_pool (MaxPooling2D)   (None, 56, 56, 128)       0         \n",
            "_________________________________________________________________\n",
            "block3_conv1 (Conv2D)        (None, 56, 56, 256)       295168    \n",
            "_________________________________________________________________\n",
            "block3_conv2 (Conv2D)        (None, 56, 56, 256)       590080    \n",
            "_________________________________________________________________\n",
            "block3_conv3 (Conv2D)        (None, 56, 56, 256)       590080    \n",
            "_________________________________________________________________\n",
            "block3_pool (MaxPooling2D)   (None, 28, 28, 256)       0         \n",
            "_________________________________________________________________\n",
            "block4_conv1 (Conv2D)        (None, 28, 28, 512)       1180160   \n",
            "_________________________________________________________________\n",
            "block4_conv2 (Conv2D)        (None, 28, 28, 512)       2359808   \n",
            "_________________________________________________________________\n",
            "block4_conv3 (Conv2D)        (None, 28, 28, 512)       2359808   \n",
            "_________________________________________________________________\n",
            "block4_pool (MaxPooling2D)   (None, 14, 14, 512)       0         \n",
            "_________________________________________________________________\n",
            "block5_conv1 (Conv2D)        (None, 14, 14, 512)       2359808   \n",
            "_________________________________________________________________\n",
            "block5_conv2 (Conv2D)        (None, 14, 14, 512)       2359808   \n",
            "_________________________________________________________________\n",
            "block5_conv3 (Conv2D)        (None, 14, 14, 512)       2359808   \n",
            "_________________________________________________________________\n",
            "block5_pool (MaxPooling2D)   (None, 7, 7, 512)         0         \n",
            "_________________________________________________________________\n",
            "flatten (Flatten)            (None, 25088)             0         \n",
            "_________________________________________________________________\n",
            "fc1 (Dense)                  (None, 4096)              102764544 \n",
            "_________________________________________________________________\n",
            "fc2 (Dense)                  (None, 4096)              16781312  \n",
            "=================================================================\n",
            "Total params: 134,260,544\n",
            "Trainable params: 134,260,544\n",
            "Non-trainable params: 0\n",
            "_________________________________________________________________\n",
            "None\n",
            "Extracted Features: 5\n"
          ],
          "name": "stdout"
        }
      ]
    },
    {
      "cell_type": "code",
      "metadata": {
        "colab": {
          "base_uri": "https://localhost:8080/"
        },
        "id": "3gk3QdZVhQdS",
        "outputId": "c25723f0-c40a-4759-a5d2-7f74840021a5"
      },
      "source": [
        "clean_descriptions(val_descriptions)\n",
        "# summarize vocabulary\n",
        "val_vocabulary = to_vocabulary(val_descriptions)\n",
        "print('Vocabulary Size: %d' % len(val_vocabulary))\n",
        "# save descriptions\n",
        "save_descriptions(val_descriptions, '/content/drive/MyDrive/Colab Notebooks/VizWiz/val_descriptions.txt')"
      ],
      "execution_count": null,
      "outputs": [
        {
          "output_type": "stream",
          "text": [
            "Vocabulary Size: 115\n"
          ],
          "name": "stdout"
        }
      ]
    },
    {
      "cell_type": "code",
      "metadata": {
        "colab": {
          "base_uri": "https://localhost:8080/"
        },
        "id": "vON3q4DHhQdS",
        "outputId": "cd297ee5-e47a-43d7-c15b-a50dc91ac11f"
      },
      "source": [
        "\n",
        "val_features = load_photo_features('/content/drive/MyDrive/Colab Notebooks/VizWiz/val_features.pkl', num_to_val)\n",
        "print('Photos: val=%d' % len(val_features))\n",
        "val_descriptions = load_clean_descriptions('/content/drive/MyDrive/Colab Notebooks/VizWiz/val_descriptions.txt', num_to_val)\n",
        "print('Descriptions: val=%d' % len(val_descriptions))\n",
        "# prepare tokenizer\n",
        "val_tokenizer = create_tokenizer(val_descriptions)\n",
        "val_vocab_size = len(val_tokenizer.word_index) + 1\n",
        "print('Vocabulary Size: %d' % val_vocab_size)\n",
        "# determine the maximum sequence length\n",
        "val_max_length = max_lengths(val_descriptions)\n",
        "print('Description Length: %d' % val_max_length)"
      ],
      "execution_count": null,
      "outputs": [
        {
          "output_type": "stream",
          "text": [
            "Photos: val=5\n",
            "Descriptions: val=5\n",
            "Vocabulary Size: 118\n",
            "Description Length: 30\n"
          ],
          "name": "stdout"
        }
      ]
    },
    {
      "cell_type": "code",
      "metadata": {
        "id": "xd_rqcSYhQdT"
      },
      "source": [
        "# define the captioning model\n",
        "def define_model(vocab_size, max_length):\n",
        "\t# feature extractor model\n",
        "\tinputs1 = Input(shape=(4096,))\n",
        "\tfe1 = Dropout(0.5)(inputs1)\n",
        "\tfe2 = Dense(256, activation='relu')(fe1)\n",
        "\t# sequence model\n",
        "\tinputs2 = Input(shape=(max_length,))\n",
        "\tse1 = Embedding(vocab_size, 256, mask_zero=True)(inputs2)\n",
        "\tse2 = Dropout(0.5)(se1)\n",
        "\tse3 = LSTM(256)(se2)\n",
        "\t# decoder model\n",
        "\tdecoder1 = add([fe2, se3])\n",
        "\tdecoder2 = Dense(256, activation='relu')(decoder1)\n",
        "\toutputs = Dense(vocab_size, activation='softmax')(decoder2)\n",
        "\t# tie it together [image, seq] [word]\n",
        "\tmodel = Model(inputs=[inputs1, inputs2], outputs=outputs)\n",
        "\tmodel.compile(loss='categorical_crossentropy', optimizer='adam')\n",
        "\t# summarize model\n",
        "\tprint(model.summary())\n",
        "\tplot_model(model, to_file='/content/drive/MyDrive/Colab Notebooks/VizWiz/model.png', show_shapes=True)\n",
        "\treturn model"
      ],
      "execution_count": null,
      "outputs": []
    },
    {
      "cell_type": "code",
      "metadata": {
        "id": "7F_sLjdDhQdU"
      },
      "source": [
        "# data generator, intended to be used in a call to model.fit_generator()\n",
        "def data_generator(descriptions, photos, tokenizer, max_length, vocab_size):\n",
        "\t# loop for ever over images\n",
        "\twhile 1:\n",
        "\t\tfor key, desc_list in descriptions.items():\n",
        "\t\t\t# retrieve the photo feature\n",
        "\t\t\tphoto = photos[key][0]\n",
        "\t\t\tin_img, in_seq, out_word = create_sequences(tokenizer, max_length, desc_list, photo, vocab_size)\n",
        "\t\t\tyield ([in_img, in_seq], out_word)"
      ],
      "execution_count": null,
      "outputs": []
    },
    {
      "cell_type": "code",
      "metadata": {
        "colab": {
          "base_uri": "https://localhost:8080/"
        },
        "id": "GeYfN4Q_hQdU",
        "outputId": "c1e7084b-d3ee-404e-bfab-162b4cdabc5b"
      },
      "source": [
        "# define the model\n",
        "import keras\n",
        "keras.backend.clear_session()\n",
        "model = define_model(vocab_size, max_length)\n",
        "epochs = 25\n",
        "steps = len(train_descriptions)\n",
        "for i in range(epochs):\n",
        "\t# create the data generator\n",
        "\tgenerator = data_generator(train_descriptions, train_features, tokenizer, max_length, vocab_size)\n",
        "\t\n",
        "\t# fit for one epoch\n",
        "\tmodel.fit(generator, epochs=1, steps_per_epoch=steps, verbose=1)\n",
        "\t# save model\n",
        "\tmodel.save('/content/drive/MyDrive/Colab Notebooks/VizWiz/Model/model_' + str(i) + '.h5')\n",
        "\tprint(\"model_\",str(i),\" is saved\")"
      ],
      "execution_count": null,
      "outputs": [
        {
          "output_type": "stream",
          "text": [
            "Model: \"model\"\n",
            "__________________________________________________________________________________________________\n",
            "Layer (type)                    Output Shape         Param #     Connected to                     \n",
            "==================================================================================================\n",
            "input_2 (InputLayer)            [(None, 44)]         0                                            \n",
            "__________________________________________________________________________________________________\n",
            "input_1 (InputLayer)            [(None, 4096)]       0                                            \n",
            "__________________________________________________________________________________________________\n",
            "embedding (Embedding)           (None, 44, 256)      162304      input_2[0][0]                    \n",
            "__________________________________________________________________________________________________\n",
            "dropout (Dropout)               (None, 4096)         0           input_1[0][0]                    \n",
            "__________________________________________________________________________________________________\n",
            "dropout_1 (Dropout)             (None, 44, 256)      0           embedding[0][0]                  \n",
            "__________________________________________________________________________________________________\n",
            "dense (Dense)                   (None, 256)          1048832     dropout[0][0]                    \n",
            "__________________________________________________________________________________________________\n",
            "lstm (LSTM)                     (None, 256)          525312      dropout_1[0][0]                  \n",
            "__________________________________________________________________________________________________\n",
            "add (Add)                       (None, 256)          0           dense[0][0]                      \n",
            "                                                                 lstm[0][0]                       \n",
            "__________________________________________________________________________________________________\n",
            "dense_1 (Dense)                 (None, 256)          65792       add[0][0]                        \n",
            "__________________________________________________________________________________________________\n",
            "dense_2 (Dense)                 (None, 634)          162938      dense_1[0][0]                    \n",
            "==================================================================================================\n",
            "Total params: 1,965,178\n",
            "Trainable params: 1,965,178\n",
            "Non-trainable params: 0\n",
            "__________________________________________________________________________________________________\n",
            "None\n",
            "50/50 [==============================] - 27s 460ms/step - loss: 6.1608\n",
            "model_ 0  is saved\n",
            "50/50 [==============================] - 22s 438ms/step - loss: 5.2090\n",
            "model_ 1  is saved\n",
            "50/50 [==============================] - 20s 404ms/step - loss: 4.7427\n",
            "model_ 2  is saved\n",
            "50/50 [==============================] - 18s 370ms/step - loss: 4.3454\n",
            "model_ 3  is saved\n",
            "50/50 [==============================] - 20s 399ms/step - loss: 4.0056\n",
            "model_ 4  is saved\n",
            "50/50 [==============================] - 20s 406ms/step - loss: 3.6864\n",
            "model_ 5  is saved\n",
            "50/50 [==============================] - 20s 405ms/step - loss: 3.3127\n",
            "model_ 6  is saved\n",
            "50/50 [==============================] - 20s 401ms/step - loss: 3.2671\n",
            "model_ 7  is saved\n",
            "50/50 [==============================] - 20s 401ms/step - loss: 3.0981\n",
            "model_ 8  is saved\n",
            "50/50 [==============================] - 20s 403ms/step - loss: 2.9916\n",
            "model_ 9  is saved\n",
            "50/50 [==============================] - 19s 379ms/step - loss: 2.9397\n",
            "model_ 10  is saved\n",
            "50/50 [==============================] - 20s 391ms/step - loss: 2.8286\n",
            "model_ 11  is saved\n",
            "50/50 [==============================] - 20s 393ms/step - loss: 2.7014\n",
            "model_ 12  is saved\n",
            "50/50 [==============================] - 20s 392ms/step - loss: 2.5854\n",
            "model_ 13  is saved\n",
            "50/50 [==============================] - 19s 384ms/step - loss: 2.5319\n",
            "model_ 14  is saved\n",
            "50/50 [==============================] - 19s 387ms/step - loss: 2.3448\n",
            "model_ 15  is saved\n",
            "50/50 [==============================] - 20s 395ms/step - loss: 2.2171\n",
            "model_ 16  is saved\n",
            "50/50 [==============================] - 21s 415ms/step - loss: 2.1331\n",
            "model_ 17  is saved\n",
            "50/50 [==============================] - 21s 415ms/step - loss: 2.0643\n",
            "model_ 18  is saved\n",
            "50/50 [==============================] - 24s 486ms/step - loss: 1.9804\n",
            "model_ 19  is saved\n",
            "50/50 [==============================] - 22s 435ms/step - loss: 1.9711\n",
            "model_ 20  is saved\n",
            "50/50 [==============================] - 25s 504ms/step - loss: 1.9207\n",
            "model_ 21  is saved\n",
            "50/50 [==============================] - 21s 399ms/step - loss: 1.8691\n",
            "model_ 22  is saved\n",
            "50/50 [==============================] - 19s 381ms/step - loss: 1.8064\n",
            "model_ 23  is saved\n",
            "50/50 [==============================] - 21s 415ms/step - loss: 1.6744\n",
            "model_ 24  is saved\n"
          ],
          "name": "stdout"
        }
      ]
    },
    {
      "cell_type": "code",
      "metadata": {
        "id": "VZfmH1_FsQl_"
      },
      "source": [
        ""
      ],
      "execution_count": null,
      "outputs": []
    }
  ]
}